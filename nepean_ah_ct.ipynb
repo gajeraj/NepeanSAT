{
 "cells": [
  {
   "cell_type": "code",
   "execution_count": 1,
   "id": "f44086ff",
   "metadata": {
    "ExecuteTime": {
     "end_time": "2023-07-17T12:55:51.785386Z",
     "start_time": "2023-07-17T12:55:50.986671Z"
    }
   },
   "outputs": [],
   "source": [
    "import pandas as pd"
   ]
  },
  {
   "cell_type": "code",
   "execution_count": 2,
   "id": "262a108e",
   "metadata": {
    "ExecuteTime": {
     "end_time": "2023-07-17T12:55:52.207307Z",
     "start_time": "2023-07-17T12:55:50.989570Z"
    }
   },
   "outputs": [],
   "source": [
    "rawdata = pd.read_csv(\"/Users/jaygajera/Desktop/RANZCR/audit_workload_nepean/dataset/combined2022dataset.csv\")"
   ]
  },
  {
   "cell_type": "code",
   "execution_count": 3,
   "id": "6e749f27",
   "metadata": {
    "ExecuteTime": {
     "end_time": "2023-07-17T12:55:52.219362Z",
     "start_time": "2023-07-17T12:55:52.209403Z"
    }
   },
   "outputs": [
    {
     "data": {
      "text/plain": "   Unnamed: 0     Request ID Accession Number        MRN          AUID  \\\n0           0  2021NB0151292  2021NB0151292-1    74108.0  1.002257e+09   \n1           1  2021NB0151302  2021NB0151302-1  3301491.0  1.003503e+09   \n2           2  2021NB0151303  2021NB0151303-1  4440948.0  1.001762e+09   \n3           3  2022NB0000001  2022NB0000001-1   700399.0  1.003038e+09   \n4           4  2022NB0000002  2022NB0000002-1     5184.0  1.002208e+09   \n\n          DOB  Gender          Suburb  Postcode  Admission  ...  \\\n0  1951-04-18  Female         PENRITH    2750.0  Inpatient  ...   \n1  1992-01-22    Male  CAMBRIDGE PARK    2747.0  Emergency  ...   \n2  1951-10-08    Male       HEBERSHAM    2770.0  Inpatient  ...   \n3  1971-06-27    Male         COLYTON    2760.0  Inpatient  ...   \n4  1962-11-03    Male         Penrith    2750.0  Inpatient  ...   \n\n  Registered Day Registered Hour Verified Day Verified Hour Preliminary Day  \\\n0         Friday            23.0     Saturday           0.0        Saturday   \n1         Friday            23.0     Saturday           0.0             NaN   \n2         Friday            23.0     Saturday           0.0             NaN   \n3       Saturday             0.0     Saturday           0.0             NaN   \n4       Saturday             0.0     Saturday           0.0             NaN   \n\n  Preliminary Hour Authorised Day Authorised Hour            Performed  \\\n0              0.0       Saturday            11.0  2021-12-31 23:51:57   \n1              NaN       Saturday            16.0  2021-12-31 23:59:36   \n2              NaN       Saturday            16.0  2021-12-31 23:58:46   \n3              NaN       Saturday            15.0  2022-01-01 00:17:17   \n4              NaN       Saturday            16.0  2022-01-01 00:37:53   \n\n  Data Last Refreshed  \n0    2023-07-12 06:00  \n1    2023-07-12 06:00  \n2    2023-07-12 06:00  \n3    2023-07-12 06:00  \n4    2023-07-12 06:00  \n\n[5 rows x 99 columns]",
      "text/html": "<div>\n<style scoped>\n    .dataframe tbody tr th:only-of-type {\n        vertical-align: middle;\n    }\n\n    .dataframe tbody tr th {\n        vertical-align: top;\n    }\n\n    .dataframe thead th {\n        text-align: right;\n    }\n</style>\n<table border=\"1\" class=\"dataframe\">\n  <thead>\n    <tr style=\"text-align: right;\">\n      <th></th>\n      <th>Unnamed: 0</th>\n      <th>Request ID</th>\n      <th>Accession Number</th>\n      <th>MRN</th>\n      <th>AUID</th>\n      <th>DOB</th>\n      <th>Gender</th>\n      <th>Suburb</th>\n      <th>Postcode</th>\n      <th>Admission</th>\n      <th>...</th>\n      <th>Registered Day</th>\n      <th>Registered Hour</th>\n      <th>Verified Day</th>\n      <th>Verified Hour</th>\n      <th>Preliminary Day</th>\n      <th>Preliminary Hour</th>\n      <th>Authorised Day</th>\n      <th>Authorised Hour</th>\n      <th>Performed</th>\n      <th>Data Last Refreshed</th>\n    </tr>\n  </thead>\n  <tbody>\n    <tr>\n      <th>0</th>\n      <td>0</td>\n      <td>2021NB0151292</td>\n      <td>2021NB0151292-1</td>\n      <td>74108.0</td>\n      <td>1.002257e+09</td>\n      <td>1951-04-18</td>\n      <td>Female</td>\n      <td>PENRITH</td>\n      <td>2750.0</td>\n      <td>Inpatient</td>\n      <td>...</td>\n      <td>Friday</td>\n      <td>23.0</td>\n      <td>Saturday</td>\n      <td>0.0</td>\n      <td>Saturday</td>\n      <td>0.0</td>\n      <td>Saturday</td>\n      <td>11.0</td>\n      <td>2021-12-31 23:51:57</td>\n      <td>2023-07-12 06:00</td>\n    </tr>\n    <tr>\n      <th>1</th>\n      <td>1</td>\n      <td>2021NB0151302</td>\n      <td>2021NB0151302-1</td>\n      <td>3301491.0</td>\n      <td>1.003503e+09</td>\n      <td>1992-01-22</td>\n      <td>Male</td>\n      <td>CAMBRIDGE PARK</td>\n      <td>2747.0</td>\n      <td>Emergency</td>\n      <td>...</td>\n      <td>Friday</td>\n      <td>23.0</td>\n      <td>Saturday</td>\n      <td>0.0</td>\n      <td>NaN</td>\n      <td>NaN</td>\n      <td>Saturday</td>\n      <td>16.0</td>\n      <td>2021-12-31 23:59:36</td>\n      <td>2023-07-12 06:00</td>\n    </tr>\n    <tr>\n      <th>2</th>\n      <td>2</td>\n      <td>2021NB0151303</td>\n      <td>2021NB0151303-1</td>\n      <td>4440948.0</td>\n      <td>1.001762e+09</td>\n      <td>1951-10-08</td>\n      <td>Male</td>\n      <td>HEBERSHAM</td>\n      <td>2770.0</td>\n      <td>Inpatient</td>\n      <td>...</td>\n      <td>Friday</td>\n      <td>23.0</td>\n      <td>Saturday</td>\n      <td>0.0</td>\n      <td>NaN</td>\n      <td>NaN</td>\n      <td>Saturday</td>\n      <td>16.0</td>\n      <td>2021-12-31 23:58:46</td>\n      <td>2023-07-12 06:00</td>\n    </tr>\n    <tr>\n      <th>3</th>\n      <td>3</td>\n      <td>2022NB0000001</td>\n      <td>2022NB0000001-1</td>\n      <td>700399.0</td>\n      <td>1.003038e+09</td>\n      <td>1971-06-27</td>\n      <td>Male</td>\n      <td>COLYTON</td>\n      <td>2760.0</td>\n      <td>Inpatient</td>\n      <td>...</td>\n      <td>Saturday</td>\n      <td>0.0</td>\n      <td>Saturday</td>\n      <td>0.0</td>\n      <td>NaN</td>\n      <td>NaN</td>\n      <td>Saturday</td>\n      <td>15.0</td>\n      <td>2022-01-01 00:17:17</td>\n      <td>2023-07-12 06:00</td>\n    </tr>\n    <tr>\n      <th>4</th>\n      <td>4</td>\n      <td>2022NB0000002</td>\n      <td>2022NB0000002-1</td>\n      <td>5184.0</td>\n      <td>1.002208e+09</td>\n      <td>1962-11-03</td>\n      <td>Male</td>\n      <td>Penrith</td>\n      <td>2750.0</td>\n      <td>Inpatient</td>\n      <td>...</td>\n      <td>Saturday</td>\n      <td>0.0</td>\n      <td>Saturday</td>\n      <td>0.0</td>\n      <td>NaN</td>\n      <td>NaN</td>\n      <td>Saturday</td>\n      <td>16.0</td>\n      <td>2022-01-01 00:37:53</td>\n      <td>2023-07-12 06:00</td>\n    </tr>\n  </tbody>\n</table>\n<p>5 rows × 99 columns</p>\n</div>"
     },
     "execution_count": 3,
     "metadata": {},
     "output_type": "execute_result"
    }
   ],
   "source": [
    "rawdata.head()"
   ]
  },
  {
   "cell_type": "code",
   "execution_count": 4,
   "id": "742f6ff8",
   "metadata": {
    "ExecuteTime": {
     "end_time": "2023-07-17T12:55:52.240075Z",
     "start_time": "2023-07-17T12:55:52.221516Z"
    }
   },
   "outputs": [],
   "source": [
    "#drop unnecessary columns in the dataset\n",
    "#example time.drop(columns=['B', 'C'])\n",
    "\n",
    "time = rawdata.drop(columns=['Request ID', 'MRN', 'AUID', 'DOB', 'Gender', 'Suburb', 'Postcode', 'Admission', 'Visit Number', 'Performing MRP', 'Hospital', 'Worksite', 'Service Department', 'Resource', 'Financial Class', 'Invoice Type', 'Ward Code', 'Ward Name', 'Report Priority', 'Provider Number', 'Requesting Doctor', 'Requesting Doctor Location', 'Speciality', 'RIS Status', 'PACS Status', 'Eorder Date', 'Eorder Time', 'Order Placer', 'Clinical History', 'Received Date', 'Received Time', 'Approval Date', 'Approval Time', 'Booked Date', 'Booked Time', 'Registered Date', 'Registered Time', 'Commenced Date', 'Commenced Time', 'Completed Date', 'Completed Time', 'Imaging Note', 'Cancelled Y/N', 'Cancelled Date', 'Cancelled Time', 'Cancelled By', 'Cancel Reason', 'Report Typed Date', 'Report Typed Time', 'Typist', 'Preliminary Date', 'Preliminary Time', 'Preliminary Author ID', 'Authorised Date', 'Authorised Time', 'Authorised Author ID', 'Coreported', 'Reviewed By', 'Reviewer ID', 'Amended Date', 'Amended Time', 'Ammended Author', 'Ammended Doctor ID', 'TAT (min) Eorder to Recieved', 'TAT (min) Recieved to Registered', 'TAT (min) Registered to Commenced', 'TAT (min) Registered to Verified', 'TAT (min) Registered to Preliminary', 'TAT (min) Registered to Authorised', 'TAT (min) Commenced to Verified', 'TAT (min) Verified to Preliminary', 'TAT (min) Verified to Authorised','TAT (min) Preliminary to Authorised', 'Eorder Day', 'Eorder Hour', 'Recieved Day', 'Recieved Hour', 'Registered Day', 'Registered Hour', 'Verified Day', 'Verified Hour', 'Preliminary Day', 'Preliminary Hour', 'Authorised Day', 'Authorised Hour', 'Data Last Refreshed'])"
   ]
  },
  {
   "cell_type": "code",
   "execution_count": 5,
   "id": "019e59bf",
   "metadata": {
    "ExecuteTime": {
     "end_time": "2023-07-17T12:55:52.240796Z",
     "start_time": "2023-07-17T12:55:52.235839Z"
    }
   },
   "outputs": [
    {
     "data": {
      "text/plain": "   Unnamed: 0 Accession Number Request Admission Modality Ordered Code  \\\n0           0  2021NB0151292-1         Emergency       CT         CTAP   \n1           1  2021NB0151302-1         Emergency       XR       MOBCHE   \n2           2  2021NB0151303-1         Emergency       XR       MOBCHE   \n3           3  2022NB0000001-1         Inpatient       XR       MOBCHE   \n4           4  2022NB0000002-1         Emergency       XR        XRCHE   \n\n         Ordered Name Performed Code Performed Service Name Verified Date  \\\n0   CT Abdomen Pelvis           CTAP      CT Abdomen Pelvis    2022-01-01   \n1  Mobile X-Ray Chest         MOBCHE     Mobile X-Ray Chest    2022-01-01   \n2  Mobile X-Ray Chest         MOBCHE     Mobile X-Ray Chest    2022-01-01   \n3  Mobile X-Ray Chest         MOBCHE     Mobile X-Ray Chest    2022-01-01   \n4         X-Ray Chest          XRCHE            X-Ray Chest    2022-01-01   \n\n  Verified Time                             Preliminary Author  \\\n0         00:09  Rajesh Pompapathy (Nepean Blue Mountains LHD)   \n1         00:19                                            NaN   \n2         00:19                                            NaN   \n3         00:38                                            NaN   \n4         00:58                                            NaN   \n\n                           Authorised Author            Performed  \n0             Joga Rao Chaganti (Sydney LHD)  2021-12-31 23:51:57  \n1  Thomas Mathews (South Western Sydney LHD)  2021-12-31 23:59:36  \n2  Thomas Mathews (South Western Sydney LHD)  2021-12-31 23:58:46  \n3  Thomas Mathews (South Western Sydney LHD)  2022-01-01 00:17:17  \n4  Thomas Mathews (South Western Sydney LHD)  2022-01-01 00:37:53  ",
      "text/html": "<div>\n<style scoped>\n    .dataframe tbody tr th:only-of-type {\n        vertical-align: middle;\n    }\n\n    .dataframe tbody tr th {\n        vertical-align: top;\n    }\n\n    .dataframe thead th {\n        text-align: right;\n    }\n</style>\n<table border=\"1\" class=\"dataframe\">\n  <thead>\n    <tr style=\"text-align: right;\">\n      <th></th>\n      <th>Unnamed: 0</th>\n      <th>Accession Number</th>\n      <th>Request Admission</th>\n      <th>Modality</th>\n      <th>Ordered Code</th>\n      <th>Ordered Name</th>\n      <th>Performed Code</th>\n      <th>Performed Service Name</th>\n      <th>Verified Date</th>\n      <th>Verified Time</th>\n      <th>Preliminary Author</th>\n      <th>Authorised Author</th>\n      <th>Performed</th>\n    </tr>\n  </thead>\n  <tbody>\n    <tr>\n      <th>0</th>\n      <td>0</td>\n      <td>2021NB0151292-1</td>\n      <td>Emergency</td>\n      <td>CT</td>\n      <td>CTAP</td>\n      <td>CT Abdomen Pelvis</td>\n      <td>CTAP</td>\n      <td>CT Abdomen Pelvis</td>\n      <td>2022-01-01</td>\n      <td>00:09</td>\n      <td>Rajesh Pompapathy (Nepean Blue Mountains LHD)</td>\n      <td>Joga Rao Chaganti (Sydney LHD)</td>\n      <td>2021-12-31 23:51:57</td>\n    </tr>\n    <tr>\n      <th>1</th>\n      <td>1</td>\n      <td>2021NB0151302-1</td>\n      <td>Emergency</td>\n      <td>XR</td>\n      <td>MOBCHE</td>\n      <td>Mobile X-Ray Chest</td>\n      <td>MOBCHE</td>\n      <td>Mobile X-Ray Chest</td>\n      <td>2022-01-01</td>\n      <td>00:19</td>\n      <td>NaN</td>\n      <td>Thomas Mathews (South Western Sydney LHD)</td>\n      <td>2021-12-31 23:59:36</td>\n    </tr>\n    <tr>\n      <th>2</th>\n      <td>2</td>\n      <td>2021NB0151303-1</td>\n      <td>Emergency</td>\n      <td>XR</td>\n      <td>MOBCHE</td>\n      <td>Mobile X-Ray Chest</td>\n      <td>MOBCHE</td>\n      <td>Mobile X-Ray Chest</td>\n      <td>2022-01-01</td>\n      <td>00:19</td>\n      <td>NaN</td>\n      <td>Thomas Mathews (South Western Sydney LHD)</td>\n      <td>2021-12-31 23:58:46</td>\n    </tr>\n    <tr>\n      <th>3</th>\n      <td>3</td>\n      <td>2022NB0000001-1</td>\n      <td>Inpatient</td>\n      <td>XR</td>\n      <td>MOBCHE</td>\n      <td>Mobile X-Ray Chest</td>\n      <td>MOBCHE</td>\n      <td>Mobile X-Ray Chest</td>\n      <td>2022-01-01</td>\n      <td>00:38</td>\n      <td>NaN</td>\n      <td>Thomas Mathews (South Western Sydney LHD)</td>\n      <td>2022-01-01 00:17:17</td>\n    </tr>\n    <tr>\n      <th>4</th>\n      <td>4</td>\n      <td>2022NB0000002-1</td>\n      <td>Emergency</td>\n      <td>XR</td>\n      <td>XRCHE</td>\n      <td>X-Ray Chest</td>\n      <td>XRCHE</td>\n      <td>X-Ray Chest</td>\n      <td>2022-01-01</td>\n      <td>00:58</td>\n      <td>NaN</td>\n      <td>Thomas Mathews (South Western Sydney LHD)</td>\n      <td>2022-01-01 00:37:53</td>\n    </tr>\n  </tbody>\n</table>\n</div>"
     },
     "execution_count": 5,
     "metadata": {},
     "output_type": "execute_result"
    }
   ],
   "source": [
    "time.head()"
   ]
  },
  {
   "cell_type": "code",
   "execution_count": 6,
   "id": "0748ba5c",
   "metadata": {
    "ExecuteTime": {
     "end_time": "2023-07-17T12:55:52.241220Z",
     "start_time": "2023-07-17T12:55:52.238323Z"
    }
   },
   "outputs": [],
   "source": [
    "result = time.dtypes"
   ]
  },
  {
   "cell_type": "code",
   "execution_count": 7,
   "id": "3230446f",
   "metadata": {
    "ExecuteTime": {
     "end_time": "2023-07-17T12:55:52.247929Z",
     "start_time": "2023-07-17T12:55:52.241096Z"
    }
   },
   "outputs": [
    {
     "name": "stdout",
     "output_type": "stream",
     "text": [
      "Unnamed: 0                 int64\n",
      "Accession Number          object\n",
      "Request Admission         object\n",
      "Modality                  object\n",
      "Ordered Code              object\n",
      "Ordered Name              object\n",
      "Performed Code            object\n",
      "Performed Service Name    object\n",
      "Verified Date             object\n",
      "Verified Time             object\n",
      "Preliminary Author        object\n",
      "Authorised Author         object\n",
      "Performed                 object\n",
      "dtype: object\n"
     ]
    }
   ],
   "source": [
    "print(result)"
   ]
  },
  {
   "cell_type": "code",
   "execution_count": 8,
   "id": "09677a4b",
   "metadata": {
    "ExecuteTime": {
     "end_time": "2023-07-17T12:55:52.272956Z",
     "start_time": "2023-07-17T12:55:52.245645Z"
    }
   },
   "outputs": [],
   "source": [
    "time['verifieddate'] = time.loc[:, 'Verified Date']\n",
    "time['verifiedtime'] = time.loc[:, 'Verified Time']\n",
    "time['performed'] = time.loc[:, 'Performed']"
   ]
  },
  {
   "cell_type": "code",
   "execution_count": 9,
   "id": "11da4b69",
   "metadata": {
    "ExecuteTime": {
     "end_time": "2023-07-17T12:55:52.273205Z",
     "start_time": "2023-07-17T12:55:52.251544Z"
    }
   },
   "outputs": [],
   "source": [
    "#conversion to datetime, specifying the input format\n",
    "#time['Verified Time'] = pd.to_datetime(time['Verified Time'], format='%d/%m/%Y:%H:%M:%S.%f')\n",
    "#time['Verified Time'] = pd.to_datetime(time['Verified Time'], format='%x:%X')"
   ]
  },
  {
   "cell_type": "code",
   "execution_count": 10,
   "id": "33adf117",
   "metadata": {
    "ExecuteTime": {
     "end_time": "2023-07-17T12:55:52.273269Z",
     "start_time": "2023-07-17T12:55:52.253870Z"
    }
   },
   "outputs": [],
   "source": [
    "#conversion to datetime, specifying the input format\n",
    "#time['performed'] = pd.to_datetime(time['performed'], format='%d/%m/%Y %H:%M:%S')"
   ]
  },
  {
   "cell_type": "code",
   "execution_count": 11,
   "id": "e00fb10a",
   "metadata": {
    "ExecuteTime": {
     "end_time": "2023-07-17T12:55:52.295573Z",
     "start_time": "2023-07-17T12:55:52.275394Z"
    }
   },
   "outputs": [
    {
     "name": "stderr",
     "output_type": "stream",
     "text": [
      "/var/folders/h7/v984v5px19z81f9lq_00tlc80000gn/T/ipykernel_66804/3056377134.py:2: UserWarning: The argument 'infer_datetime_format' is deprecated and will be removed in a future version. A strict version of it is now the default, see https://pandas.pydata.org/pdeps/0004-consistent-to-datetime-parsing.html. You can safely remove this argument.\n",
      "  time['performed'] = pd.to_datetime(time['performed'], infer_datetime_format=True)\n"
     ]
    }
   ],
   "source": [
    "#conversion to datetime, specifying the input format (keeping everything)\n",
    "time['performed'] = pd.to_datetime(time['performed'], infer_datetime_format=True)"
   ]
  },
  {
   "cell_type": "code",
   "execution_count": 12,
   "id": "dca799fb",
   "metadata": {
    "ExecuteTime": {
     "end_time": "2023-07-17T12:55:52.300999Z",
     "start_time": "2023-07-17T12:55:52.280139Z"
    }
   },
   "outputs": [],
   "source": [
    "#conversion to datetime, specifying the input format (keeping hours and minutes only, dropping year)\n",
    "time['verifiedtime'] = pd.to_datetime(time['verifiedtime'], format='%H:%M')"
   ]
  },
  {
   "cell_type": "code",
   "execution_count": 13,
   "id": "6780d5cb",
   "metadata": {
    "ExecuteTime": {
     "end_time": "2023-07-17T12:55:52.482169Z",
     "start_time": "2023-07-17T12:55:52.293374Z"
    }
   },
   "outputs": [
    {
     "ename": "ValueError",
     "evalue": "time data \"2022-01-01\" doesn't match format \"%d/%m/%Y\", at position 0. You might want to try:\n    - passing `format` if your strings have a consistent format;\n    - passing `format='ISO8601'` if your strings are all ISO8601 but not necessarily in exactly the same format;\n    - passing `format='mixed'`, and the format will be inferred for each element individually. You might want to use `dayfirst` alongside this.",
     "output_type": "error",
     "traceback": [
      "\u001B[0;31m---------------------------------------------------------------------------\u001B[0m",
      "\u001B[0;31mValueError\u001B[0m                                Traceback (most recent call last)",
      "Cell \u001B[0;32mIn[13], line 2\u001B[0m\n\u001B[1;32m      1\u001B[0m \u001B[38;5;66;03m#conversion to datetime, specifying the input format (keeping year/month/day only, dropping hours and minutes)\u001B[39;00m\n\u001B[0;32m----> 2\u001B[0m time[\u001B[38;5;124m'\u001B[39m\u001B[38;5;124mverifieddate\u001B[39m\u001B[38;5;124m'\u001B[39m] \u001B[38;5;241m=\u001B[39m \u001B[43mpd\u001B[49m\u001B[38;5;241;43m.\u001B[39;49m\u001B[43mto_datetime\u001B[49m\u001B[43m(\u001B[49m\u001B[43mtime\u001B[49m\u001B[43m[\u001B[49m\u001B[38;5;124;43m'\u001B[39;49m\u001B[38;5;124;43mverifieddate\u001B[39;49m\u001B[38;5;124;43m'\u001B[39;49m\u001B[43m]\u001B[49m\u001B[43m,\u001B[49m\u001B[43m \u001B[49m\u001B[38;5;28;43mformat\u001B[39;49m\u001B[38;5;241;43m=\u001B[39;49m\u001B[38;5;124;43m'\u001B[39;49m\u001B[38;5;132;43;01m%d\u001B[39;49;00m\u001B[38;5;124;43m/\u001B[39;49m\u001B[38;5;124;43m%\u001B[39;49m\u001B[38;5;124;43mm/\u001B[39;49m\u001B[38;5;124;43m%\u001B[39;49m\u001B[38;5;124;43mY\u001B[39;49m\u001B[38;5;124;43m'\u001B[39;49m\u001B[43m)\u001B[49m\n",
      "File \u001B[0;32m/Library/Frameworks/Python.framework/Versions/3.11/lib/python3.11/site-packages/pandas/core/tools/datetimes.py:1046\u001B[0m, in \u001B[0;36mto_datetime\u001B[0;34m(arg, errors, dayfirst, yearfirst, utc, format, exact, unit, infer_datetime_format, origin, cache)\u001B[0m\n\u001B[1;32m   1044\u001B[0m             result \u001B[38;5;241m=\u001B[39m arg\u001B[38;5;241m.\u001B[39mtz_localize(\u001B[38;5;124m\"\u001B[39m\u001B[38;5;124mutc\u001B[39m\u001B[38;5;124m\"\u001B[39m)\n\u001B[1;32m   1045\u001B[0m \u001B[38;5;28;01melif\u001B[39;00m \u001B[38;5;28misinstance\u001B[39m(arg, ABCSeries):\n\u001B[0;32m-> 1046\u001B[0m     cache_array \u001B[38;5;241m=\u001B[39m \u001B[43m_maybe_cache\u001B[49m\u001B[43m(\u001B[49m\u001B[43marg\u001B[49m\u001B[43m,\u001B[49m\u001B[43m \u001B[49m\u001B[38;5;28;43mformat\u001B[39;49m\u001B[43m,\u001B[49m\u001B[43m \u001B[49m\u001B[43mcache\u001B[49m\u001B[43m,\u001B[49m\u001B[43m \u001B[49m\u001B[43mconvert_listlike\u001B[49m\u001B[43m)\u001B[49m\n\u001B[1;32m   1047\u001B[0m     \u001B[38;5;28;01mif\u001B[39;00m \u001B[38;5;129;01mnot\u001B[39;00m cache_array\u001B[38;5;241m.\u001B[39mempty:\n\u001B[1;32m   1048\u001B[0m         result \u001B[38;5;241m=\u001B[39m arg\u001B[38;5;241m.\u001B[39mmap(cache_array)\n",
      "File \u001B[0;32m/Library/Frameworks/Python.framework/Versions/3.11/lib/python3.11/site-packages/pandas/core/tools/datetimes.py:250\u001B[0m, in \u001B[0;36m_maybe_cache\u001B[0;34m(arg, format, cache, convert_listlike)\u001B[0m\n\u001B[1;32m    248\u001B[0m unique_dates \u001B[38;5;241m=\u001B[39m unique(arg)\n\u001B[1;32m    249\u001B[0m \u001B[38;5;28;01mif\u001B[39;00m \u001B[38;5;28mlen\u001B[39m(unique_dates) \u001B[38;5;241m<\u001B[39m \u001B[38;5;28mlen\u001B[39m(arg):\n\u001B[0;32m--> 250\u001B[0m     cache_dates \u001B[38;5;241m=\u001B[39m \u001B[43mconvert_listlike\u001B[49m\u001B[43m(\u001B[49m\u001B[43munique_dates\u001B[49m\u001B[43m,\u001B[49m\u001B[43m \u001B[49m\u001B[38;5;28;43mformat\u001B[39;49m\u001B[43m)\u001B[49m\n\u001B[1;32m    251\u001B[0m     \u001B[38;5;66;03m# GH#45319\u001B[39;00m\n\u001B[1;32m    252\u001B[0m     \u001B[38;5;28;01mtry\u001B[39;00m:\n",
      "File \u001B[0;32m/Library/Frameworks/Python.framework/Versions/3.11/lib/python3.11/site-packages/pandas/core/tools/datetimes.py:453\u001B[0m, in \u001B[0;36m_convert_listlike_datetimes\u001B[0;34m(arg, format, name, utc, unit, errors, dayfirst, yearfirst, exact)\u001B[0m\n\u001B[1;32m    451\u001B[0m \u001B[38;5;66;03m# `format` could be inferred, or user didn't ask for mixed-format parsing.\u001B[39;00m\n\u001B[1;32m    452\u001B[0m \u001B[38;5;28;01mif\u001B[39;00m \u001B[38;5;28mformat\u001B[39m \u001B[38;5;129;01mis\u001B[39;00m \u001B[38;5;129;01mnot\u001B[39;00m \u001B[38;5;28;01mNone\u001B[39;00m \u001B[38;5;129;01mand\u001B[39;00m \u001B[38;5;28mformat\u001B[39m \u001B[38;5;241m!=\u001B[39m \u001B[38;5;124m\"\u001B[39m\u001B[38;5;124mmixed\u001B[39m\u001B[38;5;124m\"\u001B[39m:\n\u001B[0;32m--> 453\u001B[0m     \u001B[38;5;28;01mreturn\u001B[39;00m \u001B[43m_array_strptime_with_fallback\u001B[49m\u001B[43m(\u001B[49m\u001B[43marg\u001B[49m\u001B[43m,\u001B[49m\u001B[43m \u001B[49m\u001B[43mname\u001B[49m\u001B[43m,\u001B[49m\u001B[43m \u001B[49m\u001B[43mutc\u001B[49m\u001B[43m,\u001B[49m\u001B[43m \u001B[49m\u001B[38;5;28;43mformat\u001B[39;49m\u001B[43m,\u001B[49m\u001B[43m \u001B[49m\u001B[43mexact\u001B[49m\u001B[43m,\u001B[49m\u001B[43m \u001B[49m\u001B[43merrors\u001B[49m\u001B[43m)\u001B[49m\n\u001B[1;32m    455\u001B[0m result, tz_parsed \u001B[38;5;241m=\u001B[39m objects_to_datetime64ns(\n\u001B[1;32m    456\u001B[0m     arg,\n\u001B[1;32m    457\u001B[0m     dayfirst\u001B[38;5;241m=\u001B[39mdayfirst,\n\u001B[0;32m   (...)\u001B[0m\n\u001B[1;32m    461\u001B[0m     allow_object\u001B[38;5;241m=\u001B[39m\u001B[38;5;28;01mTrue\u001B[39;00m,\n\u001B[1;32m    462\u001B[0m )\n\u001B[1;32m    464\u001B[0m \u001B[38;5;28;01mif\u001B[39;00m tz_parsed \u001B[38;5;129;01mis\u001B[39;00m \u001B[38;5;129;01mnot\u001B[39;00m \u001B[38;5;28;01mNone\u001B[39;00m:\n\u001B[1;32m    465\u001B[0m     \u001B[38;5;66;03m# We can take a shortcut since the datetime64 numpy array\u001B[39;00m\n\u001B[1;32m    466\u001B[0m     \u001B[38;5;66;03m# is in UTC\u001B[39;00m\n",
      "File \u001B[0;32m/Library/Frameworks/Python.framework/Versions/3.11/lib/python3.11/site-packages/pandas/core/tools/datetimes.py:484\u001B[0m, in \u001B[0;36m_array_strptime_with_fallback\u001B[0;34m(arg, name, utc, fmt, exact, errors)\u001B[0m\n\u001B[1;32m    473\u001B[0m \u001B[38;5;28;01mdef\u001B[39;00m \u001B[38;5;21m_array_strptime_with_fallback\u001B[39m(\n\u001B[1;32m    474\u001B[0m     arg,\n\u001B[1;32m    475\u001B[0m     name,\n\u001B[0;32m   (...)\u001B[0m\n\u001B[1;32m    479\u001B[0m     errors: \u001B[38;5;28mstr\u001B[39m,\n\u001B[1;32m    480\u001B[0m ) \u001B[38;5;241m-\u001B[39m\u001B[38;5;241m>\u001B[39m Index:\n\u001B[1;32m    481\u001B[0m \u001B[38;5;250m    \u001B[39m\u001B[38;5;124;03m\"\"\"\u001B[39;00m\n\u001B[1;32m    482\u001B[0m \u001B[38;5;124;03m    Call array_strptime, with fallback behavior depending on 'errors'.\u001B[39;00m\n\u001B[1;32m    483\u001B[0m \u001B[38;5;124;03m    \"\"\"\u001B[39;00m\n\u001B[0;32m--> 484\u001B[0m     result, timezones \u001B[38;5;241m=\u001B[39m \u001B[43marray_strptime\u001B[49m\u001B[43m(\u001B[49m\u001B[43marg\u001B[49m\u001B[43m,\u001B[49m\u001B[43m \u001B[49m\u001B[43mfmt\u001B[49m\u001B[43m,\u001B[49m\u001B[43m \u001B[49m\u001B[43mexact\u001B[49m\u001B[38;5;241;43m=\u001B[39;49m\u001B[43mexact\u001B[49m\u001B[43m,\u001B[49m\u001B[43m \u001B[49m\u001B[43merrors\u001B[49m\u001B[38;5;241;43m=\u001B[39;49m\u001B[43merrors\u001B[49m\u001B[43m,\u001B[49m\u001B[43m \u001B[49m\u001B[43mutc\u001B[49m\u001B[38;5;241;43m=\u001B[39;49m\u001B[43mutc\u001B[49m\u001B[43m)\u001B[49m\n\u001B[1;32m    485\u001B[0m     \u001B[38;5;28;01mif\u001B[39;00m \u001B[38;5;28many\u001B[39m(tz \u001B[38;5;129;01mis\u001B[39;00m \u001B[38;5;129;01mnot\u001B[39;00m \u001B[38;5;28;01mNone\u001B[39;00m \u001B[38;5;28;01mfor\u001B[39;00m tz \u001B[38;5;129;01min\u001B[39;00m timezones):\n\u001B[1;32m    486\u001B[0m         \u001B[38;5;28;01mreturn\u001B[39;00m _return_parsed_timezone_results(result, timezones, utc, name)\n",
      "File \u001B[0;32m/Library/Frameworks/Python.framework/Versions/3.11/lib/python3.11/site-packages/pandas/_libs/tslibs/strptime.pyx:530\u001B[0m, in \u001B[0;36mpandas._libs.tslibs.strptime.array_strptime\u001B[0;34m()\u001B[0m\n",
      "File \u001B[0;32m/Library/Frameworks/Python.framework/Versions/3.11/lib/python3.11/site-packages/pandas/_libs/tslibs/strptime.pyx:351\u001B[0m, in \u001B[0;36mpandas._libs.tslibs.strptime.array_strptime\u001B[0;34m()\u001B[0m\n",
      "\u001B[0;31mValueError\u001B[0m: time data \"2022-01-01\" doesn't match format \"%d/%m/%Y\", at position 0. You might want to try:\n    - passing `format` if your strings have a consistent format;\n    - passing `format='ISO8601'` if your strings are all ISO8601 but not necessarily in exactly the same format;\n    - passing `format='mixed'`, and the format will be inferred for each element individually. You might want to use `dayfirst` alongside this."
     ]
    }
   ],
   "source": [
    "#conversion to datetime, specifying the input format (keeping year/month/day only, dropping hours and minutes)\n",
    "time['verifieddate'] = pd.to_datetime(time['verifieddate'], format='%d/%m/%Y')"
   ]
  },
  {
   "cell_type": "code",
   "execution_count": null,
   "id": "9ea0af48",
   "metadata": {},
   "outputs": [],
   "source": [
    "result1 = time.dtypes\n",
    "print(result1)"
   ]
  },
  {
   "cell_type": "code",
   "execution_count": null,
   "id": "90ed0544",
   "metadata": {},
   "outputs": [],
   "source": [
    "time"
   ]
  },
  {
   "cell_type": "code",
   "execution_count": null,
   "id": "959eb974",
   "metadata": {},
   "outputs": [],
   "source": [
    "#extract the month as numerical integer in a new column\n",
    "time['month'] = pd.DatetimeIndex(time['verifieddate']).month\n",
    "#alternativesolution#time['month_year'] = pd.to_datetime(time['performed']).dt.to_period('M')\n",
    "time.head()"
   ]
  },
  {
   "cell_type": "code",
   "execution_count": null,
   "id": "f299e163",
   "metadata": {},
   "outputs": [],
   "source": [
    "#filter data for CT only\n",
    "ct = time[time.Modality == 'CT']"
   ]
  },
  {
   "cell_type": "code",
   "execution_count": null,
   "id": "ecf8ef75",
   "metadata": {},
   "outputs": [],
   "source": [
    "#MAP values for study ascribable time"
   ]
  },
  {
   "cell_type": "code",
   "execution_count": null,
   "id": "ce8c8390",
   "metadata": {},
   "outputs": [],
   "source": [
    "list_of_codes = time['Performed Code'].to_list()\n",
    "list_of_descriptions = ct['Performed Service Name'].to_list()\n",
    "zip(list_of_codes, list_of_descriptions)\n",
    "next(zip(list_of_codes, list_of_descriptions))"
   ]
  },
  {
   "cell_type": "code",
   "execution_count": null,
   "id": "ffd13b18",
   "metadata": {},
   "outputs": [],
   "source": [
    "#map codes to descriptions\n",
    "codes_dictionary = dict(zip(list_of_codes, list_of_descriptions))"
   ]
  },
  {
   "cell_type": "code",
   "execution_count": null,
   "id": "aae84d18",
   "metadata": {},
   "outputs": [],
   "source": [
    "import collections"
   ]
  },
  {
   "cell_type": "code",
   "execution_count": null,
   "id": "f282b260",
   "metadata": {},
   "outputs": [],
   "source": [
    "ctsatnepean = pd.read_csv('../jupyter/ct_sat_definitions_UPDATED.csv')"
   ]
  },
  {
   "cell_type": "code",
   "execution_count": null,
   "id": "ce87fd46",
   "metadata": {},
   "outputs": [],
   "source": [
    "list_of_ct_exam_descriptions = ctsatnepean['Performed Service Name'].to_list()"
   ]
  },
  {
   "cell_type": "code",
   "execution_count": null,
   "id": "00906f07",
   "metadata": {},
   "outputs": [],
   "source": [
    "list_of_ct_sat_values = ctsatnepean['ct_sat_value'].to_list()"
   ]
  },
  {
   "cell_type": "code",
   "execution_count": null,
   "id": "8aad6f96",
   "metadata": {},
   "outputs": [],
   "source": [
    "zip(list_of_ct_exam_descriptions, list_of_ct_sat_values)"
   ]
  },
  {
   "cell_type": "code",
   "execution_count": null,
   "id": "da6d26a1",
   "metadata": {},
   "outputs": [],
   "source": [
    "next(zip(list_of_ct_exam_descriptions, list_of_ct_sat_values))"
   ]
  },
  {
   "cell_type": "code",
   "execution_count": null,
   "id": "9a795ed9",
   "metadata": {},
   "outputs": [],
   "source": [
    "ct_sat_dictionary = dict(zip(list_of_ct_exam_descriptions, list_of_ct_sat_values))"
   ]
  },
  {
   "cell_type": "code",
   "execution_count": null,
   "id": "f5762822",
   "metadata": {},
   "outputs": [],
   "source": [
    "ct_sat_dictionary"
   ]
  },
  {
   "cell_type": "code",
   "execution_count": null,
   "id": "f4bb5d37",
   "metadata": {},
   "outputs": [],
   "source": [
    "ct['study_ascribable_time'] = ct['Performed Service Name'].map(ct_sat_dictionary)"
   ]
  },
  {
   "cell_type": "code",
   "execution_count": null,
   "id": "a43eec34",
   "metadata": {},
   "outputs": [],
   "source": [
    "ct"
   ]
  },
  {
   "cell_type": "code",
   "execution_count": null,
   "id": "364fc564",
   "metadata": {},
   "outputs": [],
   "source": []
  },
  {
   "cell_type": "code",
   "execution_count": null,
   "id": "7b733dee",
   "metadata": {},
   "outputs": [],
   "source": []
  },
  {
   "cell_type": "code",
   "execution_count": null,
   "id": "a3ef92e3",
   "metadata": {},
   "outputs": [],
   "source": []
  },
  {
   "cell_type": "code",
   "execution_count": null,
   "id": "88871c0f",
   "metadata": {},
   "outputs": [],
   "source": []
  },
  {
   "cell_type": "code",
   "execution_count": null,
   "id": "bff04da9",
   "metadata": {},
   "outputs": [],
   "source": [
    "#Process all months in the dataset"
   ]
  },
  {
   "cell_type": "code",
   "execution_count": null,
   "id": "063d3c16",
   "metadata": {},
   "outputs": [],
   "source": [
    "ct['Verified Time'] = ct['Verified Time'].str.replace(':', '').astype(int)"
   ]
  },
  {
   "cell_type": "code",
   "execution_count": null,
   "id": "1fc734bb",
   "metadata": {},
   "outputs": [],
   "source": [
    "ct"
   ]
  },
  {
   "cell_type": "code",
   "execution_count": null,
   "id": "cfe32e29",
   "metadata": {},
   "outputs": [],
   "source": [
    "#filter time for night shift (0000-0800)\n",
    "dfnight = ct[(ct['Verified Time'] < 800)]"
   ]
  },
  {
   "cell_type": "code",
   "execution_count": null,
   "id": "39e24efb",
   "metadata": {},
   "outputs": [],
   "source": [
    "dfnight"
   ]
  },
  {
   "cell_type": "code",
   "execution_count": null,
   "id": "c16d05cb",
   "metadata": {},
   "outputs": [],
   "source": [
    "#filter time for evening shift (1600-0000)\n",
    "dfeve = ct[(ct['Verified Time'] > 1600)]"
   ]
  },
  {
   "cell_type": "code",
   "execution_count": null,
   "id": "d8e55201",
   "metadata": {},
   "outputs": [],
   "source": [
    "dfeve"
   ]
  },
  {
   "cell_type": "code",
   "execution_count": null,
   "id": "aa2c24dd",
   "metadata": {},
   "outputs": [],
   "source": [
    "#combine night shift + evening shift dataframes\n",
    "dfall = pd.concat([dfnight, dfeve], axis = 0)"
   ]
  },
  {
   "cell_type": "code",
   "execution_count": null,
   "id": "9d45a18a",
   "metadata": {
    "scrolled": true
   },
   "outputs": [],
   "source": [
    "#sandbox - IGNORE THIS LINE this solution didnt work\n",
    "#ct1eve['SATperday'] = ct1eve.groupby(['month', 'study_ascribable_time']).transform('count')"
   ]
  },
  {
   "cell_type": "code",
   "execution_count": null,
   "id": "c18bf0f5",
   "metadata": {},
   "outputs": [],
   "source": [
    "#BREAK#####################################################################################"
   ]
  },
  {
   "cell_type": "code",
   "execution_count": null,
   "id": "d4ba5a0b",
   "metadata": {},
   "outputs": [],
   "source": [
    "import seaborn as sns\n",
    "import matplotlib.pylab as plt\n",
    "import numpy as np"
   ]
  },
  {
   "cell_type": "code",
   "execution_count": null,
   "id": "baeb9226",
   "metadata": {},
   "outputs": [],
   "source": [
    "#count the number of afterhours (0000-0800 + 1600-0000) CT's verified per day\n",
    "ctall = dfall['verifieddate'].value_counts().sort_index().reset_index()"
   ]
  },
  {
   "cell_type": "code",
   "execution_count": null,
   "id": "fb89655f",
   "metadata": {},
   "outputs": [],
   "source": [
    "ctall"
   ]
  },
  {
   "cell_type": "code",
   "execution_count": null,
   "id": "21987c0b",
   "metadata": {},
   "outputs": [],
   "source": [
    "p = sns.barplot(data=ctall, x='index', y='verifieddate')\n",
    "p.set(title='All after hours CT (0000-0800 & 1600-2400)')\n",
    "p.set_xlabel(\"Date\", fontsize = 20)\n",
    "p.set_ylabel(\"Frequency\", fontsize = 20)\n",
    "plt.xticks(rotation=90)\n",
    "plt.show()"
   ]
  },
  {
   "cell_type": "code",
   "execution_count": null,
   "id": "68af4a9a",
   "metadata": {},
   "outputs": [],
   "source": [
    "ctnightall = dfnight['verifieddate'].value_counts().sort_index().reset_index()"
   ]
  },
  {
   "cell_type": "code",
   "execution_count": null,
   "id": "07e2b041",
   "metadata": {},
   "outputs": [],
   "source": [
    "ctnightall"
   ]
  },
  {
   "cell_type": "code",
   "execution_count": null,
   "id": "a7c9ca1e",
   "metadata": {},
   "outputs": [],
   "source": [
    "q = sns.barplot(data=ctnightall, x='index', y='verifieddate')\n",
    "q.set(title='Night Shift (0000-0800)')\n",
    "q.set_xlabel(\"Date\", fontsize = 20)\n",
    "q.set_ylabel(\"Frequency\", fontsize = 20)\n",
    "q.axhline(30)\n",
    "plt.xticks(rotation=90)\n",
    "plt.show()"
   ]
  },
  {
   "cell_type": "code",
   "execution_count": null,
   "id": "9d46f80c",
   "metadata": {},
   "outputs": [],
   "source": [
    "#separator"
   ]
  },
  {
   "cell_type": "code",
   "execution_count": null,
   "id": "34dc2cb9",
   "metadata": {},
   "outputs": [],
   "source": [
    "cteveall = dfeve['verifieddate'].value_counts().sort_index().reset_index()"
   ]
  },
  {
   "cell_type": "code",
   "execution_count": null,
   "id": "9f14403d",
   "metadata": {},
   "outputs": [],
   "source": [
    "cteveall"
   ]
  },
  {
   "cell_type": "code",
   "execution_count": null,
   "id": "976869af",
   "metadata": {},
   "outputs": [],
   "source": [
    "q = sns.barplot(data=cteveall, x='index', y='verifieddate')\n",
    "q.set(title='Evening Shift (1600-0000)')\n",
    "q.set_xlabel(\"Date\", fontsize = 20)\n",
    "q.set_ylabel(\"Frequency\", fontsize = 20)\n",
    "q.axhline(30)\n",
    "plt.xticks(rotation=90)\n",
    "plt.show()"
   ]
  },
  {
   "cell_type": "code",
   "execution_count": null,
   "id": "2f65af81",
   "metadata": {},
   "outputs": [],
   "source": [
    "#BREAK#######################################################################"
   ]
  },
  {
   "cell_type": "code",
   "execution_count": null,
   "id": "5529aa73",
   "metadata": {},
   "outputs": [],
   "source": []
  },
  {
   "cell_type": "code",
   "execution_count": null,
   "id": "3f28174f",
   "metadata": {},
   "outputs": [],
   "source": []
  },
  {
   "cell_type": "code",
   "execution_count": null,
   "id": "6d0d4c6e",
   "metadata": {},
   "outputs": [],
   "source": []
  },
  {
   "cell_type": "code",
   "execution_count": null,
   "id": "d922f211",
   "metadata": {},
   "outputs": [],
   "source": []
  },
  {
   "cell_type": "code",
   "execution_count": null,
   "id": "aedba088",
   "metadata": {},
   "outputs": [],
   "source": [
    "##BREAK#############################################################"
   ]
  },
  {
   "cell_type": "code",
   "execution_count": null,
   "id": "9b44bf58",
   "metadata": {},
   "outputs": [],
   "source": [
    "#create new dataframe with selected columns only\n",
    "ctcut = ct[['verifieddate', 'performed','study_ascribable_time']]"
   ]
  },
  {
   "cell_type": "code",
   "execution_count": null,
   "id": "3de299a7",
   "metadata": {},
   "outputs": [],
   "source": [
    "ctcut"
   ]
  },
  {
   "cell_type": "code",
   "execution_count": null,
   "id": "a840863c",
   "metadata": {},
   "outputs": [],
   "source": [
    "ctsat = ctcut.groupby(by=[\"verifieddate\"]).sum()"
   ]
  },
  {
   "cell_type": "code",
   "execution_count": null,
   "id": "4e3410fc",
   "metadata": {},
   "outputs": [],
   "source": [
    "ctsat"
   ]
  },
  {
   "cell_type": "code",
   "execution_count": null,
   "id": "6485fecd",
   "metadata": {},
   "outputs": [],
   "source": [
    "#BREAK###########################################################################################"
   ]
  },
  {
   "cell_type": "code",
   "execution_count": null,
   "id": "916a5bd8",
   "metadata": {},
   "outputs": [],
   "source": [
    "#Filter dataset month specific\n",
    "\n",
    "#filter data for January only\n",
    "ct1 = ct[ct.month == 1]\n",
    "#filter data for Feb only\n",
    "ct2 = ct[ct.month == 2]\n",
    "#filter data for Mar only\n",
    "ct3 = ct[ct.month == 3]\n",
    "#filter data for Apr only\n",
    "ct4 = ct[ct.month == 4]\n",
    "#filter data for May only\n",
    "ct5 = ct[ct.month == 5]\n",
    "#filter data for Jun only\n",
    "ct6 = ct[ct.month == 6]\n",
    "#filter data for Jul only\n",
    "ct7 = ct[ct.month == 7]\n",
    "#filter data for Aug only\n",
    "ct8 = ct[ct.month == 8]\n",
    "#filter data for Sep only\n",
    "ct9 = ct[ct.month == 9]\n",
    "#filter data for Oct only\n",
    "ct10 = ct[ct.month == 10]\n",
    "#filter data for Nov only\n",
    "ct11 = ct[ct.month == 11]\n",
    "#filter data for Dec only\n",
    "ct12 = ct[ct.month == 12]"
   ]
  },
  {
   "cell_type": "code",
   "execution_count": null,
   "id": "dc116823",
   "metadata": {},
   "outputs": [],
   "source": [
    "#filter time for night shift (0000-0800)\n",
    "ct1night = ct1[(ct1['Verified Time'] < 800)]\n",
    "#filter time for evening shift (1600-0000)\n",
    "ct1eve = ct1[(ct1['Verified Time'] > 1600)]\n",
    "\n",
    "#filter time for night shift (0000-0800)\n",
    "ct2night = ct2[(ct2['Verified Time'] < 800)]\n",
    "#filter time for evening shift (1600-0000)\n",
    "ct2eve = ct2[(ct2['Verified Time'] > 1600)]\n",
    "\n",
    "#filter time for night shift (0000-0800)\n",
    "ct3night = ct3[(ct3['Verified Time'] < 800)]\n",
    "#filter time for evening shift (1600-0000)\n",
    "ct3eve = ct3[(ct3['Verified Time'] > 1600)]\n",
    "\n",
    "#filter time for night shift (0000-0800)\n",
    "ct4night = ct4[(ct4['Verified Time'] < 800)]\n",
    "#filter time for evening shift (1600-0000)\n",
    "ct4eve = ct4[(ct4['Verified Time'] > 1600)]\n",
    "\n",
    "#filter time for night shift (0000-0800)\n",
    "ct5night = ct5[(ct5['Verified Time'] < 800)]\n",
    "#filter time for evening shift (1600-0000)\n",
    "ct5eve = ct5[(ct5['Verified Time'] > 1600)]\n",
    "\n",
    "#filter time for night shift (0000-0800)\n",
    "ct6night = ct6[(ct6['Verified Time'] < 800)]\n",
    "#filter time for evening shift (1600-0000)\n",
    "ct6eve = ct6[(ct6['Verified Time'] > 1600)]\n",
    "\n",
    "#filter time for night shift (0000-0800)\n",
    "ct7night = ct7[(ct7['Verified Time'] < 800)]\n",
    "#filter time for evening shift (1600-0000)\n",
    "ct7eve = ct7[(ct7['Verified Time'] > 1600)]\n",
    "\n",
    "#filter time for night shift (0000-0800)\n",
    "ct8night = ct8[(ct8['Verified Time'] < 800)]\n",
    "#filter time for evening shift (1600-0000)\n",
    "ct8eve = ct8[(ct8['Verified Time'] > 1600)]\n",
    "\n",
    "#filter time for night shift (0000-0800)\n",
    "ct9night = ct9[(ct9['Verified Time'] < 800)]\n",
    "#filter time for evening shift (1600-0000)\n",
    "ct9eve = ct9[(ct9['Verified Time'] > 1600)]\n",
    "\n",
    "#filter time for night shift (0000-0800)\n",
    "ct10night = ct10[(ct10['Verified Time'] < 800)]\n",
    "#filter time for evening shift (1600-0000)\n",
    "ct10eve = ct10[(ct10['Verified Time'] > 1600)]\n",
    "\n",
    "#filter time for night shift (0000-0800)\n",
    "ct11night = ct11[(ct11['Verified Time'] < 800)]\n",
    "#filter time for evening shift (1600-0000)\n",
    "ct11eve = ct11[(ct11['Verified Time'] > 1600)]\n",
    "\n",
    "#filter time for night shift (0000-0800)\n",
    "ct12night = ct12[(ct12['Verified Time'] < 800)]\n",
    "#filter time for evening shift (1600-0000)\n",
    "ct12eve = ct12[(ct12['Verified Time'] > 1600)]"
   ]
  },
  {
   "cell_type": "code",
   "execution_count": null,
   "id": "1ea9fd25",
   "metadata": {},
   "outputs": [],
   "source": [
    "df1eve = ct1eve['verifieddate'].value_counts().sort_index().reset_index()\n",
    "df2eve = ct2eve['verifieddate'].value_counts().sort_index().reset_index()\n",
    "df3eve = ct3eve['verifieddate'].value_counts().sort_index().reset_index()\n",
    "df4eve = ct4eve['verifieddate'].value_counts().sort_index().reset_index()\n",
    "df5eve = ct5eve['verifieddate'].value_counts().sort_index().reset_index()\n",
    "df6eve = ct6eve['verifieddate'].value_counts().sort_index().reset_index()\n",
    "df7eve = ct7eve['verifieddate'].value_counts().sort_index().reset_index()\n",
    "df8eve = ct8eve['verifieddate'].value_counts().sort_index().reset_index()\n",
    "df9eve = ct9eve['verifieddate'].value_counts().sort_index().reset_index()\n",
    "df10eve = ct10eve['verifieddate'].value_counts().sort_index().reset_index()\n",
    "d11eve = ct11eve['verifieddate'].value_counts().sort_index().reset_index()\n",
    "df12eve = ct12eve['verifieddate'].value_counts().sort_index().reset_index()\n",
    "\n",
    "df1night = ct1night['verifieddate'].value_counts().sort_index().reset_index()\n",
    "df2night = ct2night['verifieddate'].value_counts().sort_index().reset_index()\n",
    "df3night = ct3night['verifieddate'].value_counts().sort_index().reset_index()\n",
    "df4night = ct4night['verifieddate'].value_counts().sort_index().reset_index()\n",
    "df5night = ct5night['verifieddate'].value_counts().sort_index().reset_index()\n",
    "df6night = ct6night['verifieddate'].value_counts().sort_index().reset_index()\n",
    "df7night = ct7night['verifieddate'].value_counts().sort_index().reset_index()\n",
    "df8night = ct8night['verifieddate'].value_counts().sort_index().reset_index()\n",
    "df9night = ct9night['verifieddate'].value_counts().sort_index().reset_index()\n",
    "df10night = ct10night['verifieddate'].value_counts().sort_index().reset_index()\n",
    "d11night = ct11night['verifieddate'].value_counts().sort_index().reset_index()\n",
    "df12night = ct12night['verifieddate'].value_counts().sort_index().reset_index()"
   ]
  },
  {
   "cell_type": "code",
   "execution_count": null,
   "id": "e3387d49",
   "metadata": {},
   "outputs": [],
   "source": []
  },
  {
   "cell_type": "code",
   "execution_count": null,
   "id": "be91df08",
   "metadata": {},
   "outputs": [],
   "source": [
    "#MONTH BY MONTH ANALYSIS"
   ]
  },
  {
   "cell_type": "code",
   "execution_count": null,
   "id": "c3ff5e6b",
   "metadata": {},
   "outputs": [],
   "source": [
    "#AUGUST"
   ]
  },
  {
   "cell_type": "code",
   "execution_count": null,
   "id": "2160e6e1",
   "metadata": {},
   "outputs": [],
   "source": [
    "#Plot graph for number of CT performed in August per date\n",
    "import seaborn as sns\n",
    "import matplotlib.pyplot as plt\n",
    "\n",
    "x1night = df1night['verifieddate']  # Column for X-axis (e.g., timestamps)\n",
    "y1night = df1night['count']         # Column for Y-axis (e.g., frequency)\n",
    "\n",
    "# Create the bar plot\n",
    "q1night = sns.barplot(x=x1night, y=y1night)\n",
    "\n",
    "# Set the title of the plot\n",
    "q1night.set(title='Night Shift (0000-0800)')\n",
    "\n",
    "# Set the X and Y labels\n",
    "q1night.set_xlabel(\"Date\", fontsize=20)\n",
    "q1night.set_ylabel(\"Number of CT scans\", fontsize=20)\n",
    "\n",
    "# Add a horizontal line at y=40\n",
    "q1night.axhline(40)\n",
    "\n",
    "# Rotate the X-axis tick labels by 90 degrees\n",
    "plt.xticks(rotation=90)\n",
    "\n",
    "# Add numerical values on top of each bar\n",
    "for p in q1night.patches:\n",
    "    q1night.annotate(format(p.get_height(), '.0f'),\n",
    "                     (p.get_x() + p.get_width() / 2., p.get_height()),\n",
    "                     ha='center', va='center',\n",
    "                     xytext=(0, 5),\n",
    "                     textcoords='offset points',\n",
    "                     fontsize=10,\n",
    "                     color='white')  # Change color to white\n",
    "\n",
    "# Display the plot\n",
    "plt.show()"
   ]
  },
  {
   "cell_type": "code",
   "execution_count": null,
   "id": "bda2707d",
   "metadata": {},
   "outputs": [],
   "source": [
    "#calculate SAT per day for August per date\n",
    "#for night shift\n",
    "ct8night_sat = ct8night.groupby(by=[\"verifieddate\"]).sum()\n",
    "#make index into a column\n",
    "ct8night_sat['date'] = ct8night_sat.index\n",
    "\n",
    "#for evening shift\n",
    "ct8eve_sat = ct8eve.groupby(by=[\"verifieddate\"]).sum()\n",
    "#make index into a column\n",
    "ct8eve_sat['date'] = ct8eve_sat.index"
   ]
  },
  {
   "cell_type": "code",
   "execution_count": null,
   "id": "76451fcf",
   "metadata": {},
   "outputs": [],
   "source": [
    "#proof to see the transformation has worked (take away the #)\n",
    "#ct8night_sat"
   ]
  },
  {
   "cell_type": "code",
   "execution_count": null,
   "id": "36db10ab",
   "metadata": {},
   "outputs": [],
   "source": [
    "#proof to see the transformation has worked (take away the #)\n",
    "#ct8eve_sat"
   ]
  },
  {
   "cell_type": "code",
   "execution_count": null,
   "id": "48424f9c",
   "metadata": {},
   "outputs": [],
   "source": [
    "#plot graph for August SAT per date\n",
    "q = sns.barplot(data=ct8eve_sat, x='date', y='study_ascribable_time')\n",
    "q.set(title='Evening Shift (1600-0000)')\n",
    "q.set_xlabel(\"Date\", fontsize = 20)\n",
    "q.set_ylabel(\"Study Ascribable Time\", fontsize = 20)\n",
    "q.axhline(360)\n",
    "plt.xticks(rotation=90)\n",
    "plt.show()\n",
    "\n",
    "q = sns.barplot(data=ct8night_sat, x='date', y='study_ascribable_time')\n",
    "q.set(title='Night Shift (0000-0800)')\n",
    "q.set_xlabel(\"Date\", fontsize = 20)\n",
    "q.set_ylabel(\"Study Ascribable Time\", fontsize = 20)\n",
    "q.axhline(300)\n",
    "plt.xticks(rotation=90)\n",
    "plt.show()"
   ]
  },
  {
   "cell_type": "code",
   "execution_count": null,
   "id": "8f6c99c7",
   "metadata": {},
   "outputs": [],
   "source": [
    "#SEPTEMBER"
   ]
  },
  {
   "cell_type": "code",
   "execution_count": null,
   "id": "8549a4e4",
   "metadata": {},
   "outputs": [],
   "source": [
    "#plot graph for number of CT per date - September\n",
    "q = sns.barplot(data=df9eve, x='index', y='verifieddate')\n",
    "q.set(title='Evening Shift (1600-0000)')\n",
    "q.set_xlabel(\"Date\", fontsize = 20)\n",
    "q.set_ylabel(\"Number of CT scans\", fontsize = 20)\n",
    "q.axhline(30)\n",
    "plt.xticks(rotation=90)\n",
    "plt.show()\n",
    "\n",
    "q = sns.barplot(data=df9night, x='index', y='verifieddate')\n",
    "q.set(title='Night Shift (0000-0800)')\n",
    "q.set_xlabel(\"Date\", fontsize = 20)\n",
    "q.set_ylabel(\"Number of CT scans\", fontsize = 20)\n",
    "q.axhline(30)\n",
    "plt.xticks(rotation=90)\n",
    "plt.show()"
   ]
  },
  {
   "cell_type": "code",
   "execution_count": null,
   "id": "77f35c2f",
   "metadata": {},
   "outputs": [],
   "source": [
    "#calculate SAT per day September\n",
    "#for night shift\n",
    "ct9night_sat = ct9night.groupby(by=[\"verifieddate\"]).sum()\n",
    "#make index into a column\n",
    "ct9night_sat['date'] = ct9night_sat.index\n",
    "\n",
    "#for evening shift\n",
    "ct9eve_sat = ct9eve.groupby(by=[\"verifieddate\"]).sum()\n",
    "#make index into a column\n",
    "ct9eve_sat['date'] = ct9eve_sat.index"
   ]
  },
  {
   "cell_type": "code",
   "execution_count": null,
   "id": "604af82b",
   "metadata": {},
   "outputs": [],
   "source": [
    "#plot graph for SAT per date September\n",
    "q = sns.barplot(data=ct9eve_sat, x='date', y='study_ascribable_time')\n",
    "q.set(title='Evening Shift (1600-0000)')\n",
    "q.set_xlabel(\"Date\", fontsize = 20)\n",
    "q.set_ylabel(\"Study Ascribable Time\", fontsize = 20)\n",
    "q.axhline(360)\n",
    "plt.xticks(rotation=90)\n",
    "plt.show()\n",
    "\n",
    "q = sns.barplot(data=ct9night_sat, x='date', y='study_ascribable_time')\n",
    "q.set(title='Night Shift (0000-0800)')\n",
    "q.set_xlabel(\"Date\", fontsize = 20)\n",
    "q.set_ylabel(\"Study Ascribable Time\", fontsize = 20)\n",
    "q.axhline(300)\n",
    "plt.xticks(rotation=90)\n",
    "plt.show()"
   ]
  },
  {
   "cell_type": "code",
   "execution_count": null,
   "id": "aa49015a",
   "metadata": {},
   "outputs": [],
   "source": [
    "#OCTOBER"
   ]
  },
  {
   "cell_type": "code",
   "execution_count": null,
   "id": "69d731d9",
   "metadata": {},
   "outputs": [],
   "source": [
    "#plot graph for October SAT per date\n",
    "q = sns.barplot(data=df10eve, x='index', y='verifieddate')\n",
    "q.set(title='Evening Shift (1600-0000)')\n",
    "q.set_xlabel(\"Date\", fontsize = 20)\n",
    "q.set_ylabel(\"Number of CT scans\", fontsize = 20)\n",
    "q.axhline(30)\n",
    "plt.xticks(rotation=90)\n",
    "plt.show()\n",
    "\n",
    "q = sns.barplot(data=df10night, x='index', y='verifieddate')\n",
    "q.set(title='Night Shift (0000-0800)')\n",
    "q.set_xlabel(\"Date\", fontsize = 20)\n",
    "q.set_ylabel(\"Number of CT scans\", fontsize = 20)\n",
    "q.axhline(30)\n",
    "plt.xticks(rotation=90)\n",
    "plt.show()"
   ]
  },
  {
   "cell_type": "code",
   "execution_count": null,
   "id": "720a08e7",
   "metadata": {},
   "outputs": [],
   "source": [
    "#calculate SAT per day for October\n",
    "#for night shift\n",
    "ct10night_sat = ct10night.groupby(by=[\"verifieddate\"]).sum()\n",
    "#make index into a column\n",
    "ct10night_sat['date'] = ct10night_sat.index\n",
    "\n",
    "#for evening shift\n",
    "ct10eve_sat = ct10eve.groupby(by=[\"verifieddate\"]).sum()\n",
    "#make index into a column\n",
    "ct10eve_sat['date'] = ct10eve_sat.index"
   ]
  },
  {
   "cell_type": "code",
   "execution_count": null,
   "id": "cf4d962e",
   "metadata": {},
   "outputs": [],
   "source": [
    "#plot graph for SAT per date for October\n",
    "q = sns.barplot(data=ct10eve_sat, x='date', y='study_ascribable_time')\n",
    "q.set(title='Evening Shift (1600-0000)')\n",
    "q.set_xlabel(\"Date\", fontsize = 20)\n",
    "q.set_ylabel(\"Study Ascribable Time\", fontsize = 20)\n",
    "q.axhline(360)\n",
    "plt.xticks(rotation=90)\n",
    "plt.show()\n",
    "\n",
    "q = sns.barplot(data=ct10night_sat, x='date', y='study_ascribable_time')\n",
    "q.set(title='Night Shift (0000-0800)')\n",
    "q.set_xlabel(\"Date\", fontsize = 20)\n",
    "q.set_ylabel(\"Study Ascribable Time\", fontsize = 20)\n",
    "q.axhline(300)\n",
    "plt.xticks(rotation=90)\n",
    "plt.show()"
   ]
  },
  {
   "cell_type": "code",
   "execution_count": null,
   "id": "13afa641",
   "metadata": {},
   "outputs": [],
   "source": []
  }
 ],
 "metadata": {
  "kernelspec": {
   "display_name": "Python 3 (ipykernel)",
   "language": "python",
   "name": "python3"
  },
  "language_info": {
   "codemirror_mode": {
    "name": "ipython",
    "version": 3
   },
   "file_extension": ".py",
   "mimetype": "text/x-python",
   "name": "python",
   "nbconvert_exporter": "python",
   "pygments_lexer": "ipython3",
   "version": "3.11.4"
  }
 },
 "nbformat": 4,
 "nbformat_minor": 5
}
